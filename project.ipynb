{
 "cells": [
  {
   "cell_type": "markdown",
   "metadata": {
    "id": "MP2wU5OtihT6"
   },
   "source": [
    "# Classification of Inappropriate/Offensive Text"
   ]
  },
  {
   "cell_type": "markdown",
   "metadata": {
    "id": "zmFLzbUMivyU"
   },
   "source": [
    "## Import the essentials"
   ]
  },
  {
   "cell_type": "code",
   "execution_count": 1,
   "metadata": {
    "colab": {
     "base_uri": "https://localhost:8080/",
     "height": 276
    },
    "id": "mHJ4wBofhr8S",
    "outputId": "040bd05f-16f1-417a-82a1-42696f843643"
   },
   "outputs": [
    {
     "name": "stderr",
     "output_type": "stream",
     "text": [
      "[nltk_data] Downloading package stopwords to\n",
      "[nltk_data]     C:\\Users\\snake\\AppData\\Roaming\\nltk_data...\n",
      "[nltk_data]   Package stopwords is already up-to-date!\n",
      "[nltk_data] Downloading package punkt to\n",
      "[nltk_data]     C:\\Users\\snake\\AppData\\Roaming\\nltk_data...\n",
      "[nltk_data]   Package punkt is already up-to-date!\n"
     ]
    },
    {
     "data": {
      "text/html": [
       "<div>\n",
       "<style scoped>\n",
       "    .dataframe tbody tr th:only-of-type {\n",
       "        vertical-align: middle;\n",
       "    }\n",
       "\n",
       "    .dataframe tbody tr th {\n",
       "        vertical-align: top;\n",
       "    }\n",
       "\n",
       "    .dataframe thead th {\n",
       "        text-align: right;\n",
       "    }\n",
       "</style>\n",
       "<table border=\"1\" class=\"dataframe\">\n",
       "  <thead>\n",
       "    <tr style=\"text-align: right;\">\n",
       "      <th></th>\n",
       "      <th>text</th>\n",
       "      <th>label</th>\n",
       "    </tr>\n",
       "  </thead>\n",
       "  <tbody>\n",
       "    <tr>\n",
       "      <th>0</th>\n",
       "      <td>Gerçekten sizin hikayelerinizi izleyerek mi ye...</td>\n",
       "      <td>0</td>\n",
       "    </tr>\n",
       "    <tr>\n",
       "      <th>1</th>\n",
       "      <td>@USER Çoook çok bi baklava bi sen zaten</td>\n",
       "      <td>0</td>\n",
       "    </tr>\n",
       "    <tr>\n",
       "      <th>2</th>\n",
       "      <td>1) Sn. DÜKEL; Atatürk'ün, Karma E. M. ile başl...</td>\n",
       "      <td>0</td>\n",
       "    </tr>\n",
       "    <tr>\n",
       "      <th>3</th>\n",
       "      <td>Konfederasyonumuzun Aile ve Sosyal Politikalar...</td>\n",
       "      <td>0</td>\n",
       "    </tr>\n",
       "    <tr>\n",
       "      <th>4</th>\n",
       "      <td>Hakemler tarih yazıyorlar / 9 kişiye karşı 3-2...</td>\n",
       "      <td>1</td>\n",
       "    </tr>\n",
       "  </tbody>\n",
       "</table>\n",
       "</div>"
      ],
      "text/plain": [
       "                                                text  label\n",
       "0  Gerçekten sizin hikayelerinizi izleyerek mi ye...      0\n",
       "1            @USER Çoook çok bi baklava bi sen zaten      0\n",
       "2  1) Sn. DÜKEL; Atatürk'ün, Karma E. M. ile başl...      0\n",
       "3  Konfederasyonumuzun Aile ve Sosyal Politikalar...      0\n",
       "4  Hakemler tarih yazıyorlar / 9 kişiye karşı 3-2...      1"
      ]
     },
     "execution_count": 1,
     "metadata": {},
     "output_type": "execute_result"
    }
   ],
   "source": [
    "import pandas as pd\n",
    "import numpy as np\n",
    "import matplotlib.pyplot as plt\n",
    "import nltk\n",
    "from nltk import FreqDist\n",
    "from nltk.corpus import stopwords\n",
    "from nltk.tokenize import word_tokenize\n",
    "import zeyrek\n",
    "import re\n",
    "import contextlib\n",
    "import io\n",
    "from tqdm import tqdm\n",
    "\n",
    "# Text vectorizing\n",
    "from sklearn.feature_extraction.text import CountVectorizer, TfidfVectorizer\n",
    "from radient import text_vectorizer\n",
    "\n",
    "# Modelling\n",
    "from sklearn.ensemble import RandomForestClassifier\n",
    "from sklearn.metrics import accuracy_score, confusion_matrix, precision_score, recall_score, ConfusionMatrixDisplay, classification_report\n",
    "from sklearn.model_selection import RandomizedSearchCV, train_test_split\n",
    "from sklearn.tree import DecisionTreeClassifier\n",
    "\n",
    "# Bernoulli for bag-of-words, Multinomial for Tf-idf and Gaussian for sentence transformers\n",
    "from sklearn.naive_bayes import BernoulliNB, MultinomialNB, GaussianNB\n",
    "\n",
    "# MLP Classifier for sentence transformers\n",
    "from sklearn.neural_network import MLPClassifier\n",
    "\n",
    "# Tree Visualisation\n",
    "from sklearn.tree import export_graphviz\n",
    "from IPython.display import Image\n",
    "\n",
    "@contextlib.contextmanager\n",
    "def suppress_output():\n",
    "    with contextlib.redirect_stdout(io.StringIO()) as stdout, \\\n",
    "         contextlib.redirect_stderr(io.StringIO()) as stderr:\n",
    "        yield (stdout, stderr)\n",
    "\n",
    "nltk.download('stopwords')\n",
    "nltk.download('punkt')\n",
    "\n",
    "# Load the dataset\n",
    "data = pd.read_csv('dataset.csv')\n",
    "data.head()"
   ]
  },
  {
   "cell_type": "markdown",
   "metadata": {
    "id": "ciDALDINikWj"
   },
   "source": [
    "## Data Preprocessing Part"
   ]
  },
  {
   "cell_type": "code",
   "execution_count": 2,
   "metadata": {
    "colab": {
     "base_uri": "https://localhost:8080/"
    },
    "id": "tE0aIKatlyOl",
    "outputId": "9a7b38ff-c99f-4185-9ee6-6e6d402d7fdd"
   },
   "outputs": [
    {
     "name": "stdout",
     "output_type": "stream",
     "text": [
      "<class 'pandas.core.frame.DataFrame'>\n",
      "RangeIndex: 53005 entries, 0 to 53004\n",
      "Data columns (total 2 columns):\n",
      " #   Column  Non-Null Count  Dtype \n",
      "---  ------  --------------  ----- \n",
      " 0   text    53005 non-null  object\n",
      " 1   label   53005 non-null  int64 \n",
      "dtypes: int64(1), object(1)\n",
      "memory usage: 828.3+ KB\n"
     ]
    }
   ],
   "source": [
    "data.info()"
   ]
  },
  {
   "cell_type": "code",
   "execution_count": 3,
   "metadata": {
    "id": "wnFCVPjhh7S2"
   },
   "outputs": [],
   "source": [
    "\n",
    "analyzer = zeyrek.MorphAnalyzer()\n",
    "\n",
    "# Function to remove unnecessary user tags from the entries\n",
    "def clean_text(text):\n",
    "    \n",
    "    # Remove URLs\n",
    "    text = re.sub(r'http\\S+', '', text)\n",
    "    \n",
    "    # Remove special characters, punctuation, and numbers\n",
    "    text = re.sub(r'[^a-zA-ZçğıöşüÇĞİÖŞÜ\\s]', '', text)\n",
    "    \n",
    "    # Tokenize the text\n",
    "    words = word_tokenize(text)\n",
    "    \n",
    "    # Remove stopwords\n",
    "    stop_words = set(stopwords.words('turkish'))\n",
    "    words = [word for word in words if word not in stop_words]\n",
    "    \n",
    "    # Lemmatize words\n",
    "    lemmatized_words = []\n",
    "    for word in words:\n",
    "        with suppress_output():\n",
    "            analyses = analyzer.analyze(word)\n",
    "        if analyses:\n",
    "            lemmatized_words.append(analyses[0][0].lemma)\n",
    "        else:\n",
    "            lemmatized_words.append(word)\n",
    "    \n",
    "    return ' '.join(lemmatized_words)\n",
    "\n",
    "# Apply the cleaning function to the 'text' column\n",
    "data['text'] = data['text'].apply(clean_text)\n"
   ]
  },
  {
   "cell_type": "code",
   "execution_count": 4,
   "metadata": {},
   "outputs": [
    {
     "name": "stderr",
     "output_type": "stream",
     "text": [
      "C:\\Users\\snake\\AppData\\Local\\Temp\\ipykernel_9720\\3470312949.py:6: SettingWithCopyWarning: \n",
      "A value is trying to be set on a copy of a slice from a DataFrame\n",
      "\n",
      "See the caveats in the documentation: https://pandas.pydata.org/pandas-docs/stable/user_guide/indexing.html#returning-a-view-versus-a-copy\n",
      "  data['text'].iloc[i] = re.sub(r'.', to_lowercase, data['text'].iloc[i])\n",
      "C:\\Users\\snake\\AppData\\Local\\Temp\\ipykernel_9720\\3470312949.py:9: SettingWithCopyWarning: \n",
      "A value is trying to be set on a copy of a slice from a DataFrame\n",
      "\n",
      "See the caveats in the documentation: https://pandas.pydata.org/pandas-docs/stable/user_guide/indexing.html#returning-a-view-versus-a-copy\n",
      "  data['text'].iloc[i] = re.sub(r'\\bunk\\s|\\sunk\\b', '', data['text'].iloc[i])\n",
      "C:\\Users\\snake\\AppData\\Local\\Temp\\ipykernel_9720\\3470312949.py:10: SettingWithCopyWarning: \n",
      "A value is trying to be set on a copy of a slice from a DataFrame\n",
      "\n",
      "See the caveats in the documentation: https://pandas.pydata.org/pandas-docs/stable/user_guide/indexing.html#returning-a-view-versus-a-copy\n",
      "  data['text'].iloc[i] = re.sub(r'\\sunk\\s', ' ', data['text'].iloc[i])\n",
      "C:\\Users\\snake\\AppData\\Local\\Temp\\ipykernel_9720\\3470312949.py:11: SettingWithCopyWarning: \n",
      "A value is trying to be set on a copy of a slice from a DataFrame\n",
      "\n",
      "See the caveats in the documentation: https://pandas.pydata.org/pandas-docs/stable/user_guide/indexing.html#returning-a-view-versus-a-copy\n",
      "  data['text'].iloc[i] = re.sub(r'\\bUnk\\s|\\sUnk\\b', '', data['text'].iloc[i])\n",
      "C:\\Users\\snake\\AppData\\Local\\Temp\\ipykernel_9720\\3470312949.py:12: SettingWithCopyWarning: \n",
      "A value is trying to be set on a copy of a slice from a DataFrame\n",
      "\n",
      "See the caveats in the documentation: https://pandas.pydata.org/pandas-docs/stable/user_guide/indexing.html#returning-a-view-versus-a-copy\n",
      "  data['text'].iloc[i] = re.sub(r'\\sUnk\\s', ' ', data['text'].iloc[i])\n"
     ]
    }
   ],
   "source": [
    "# Lowercase all words and remove unknown tokens: 'unk'\n",
    "# Function to convert match to lowercase\n",
    "to_lowercase = lambda match: match.group(0).lower()\n",
    "rem_words = ['unk', 'Unk', 'user']\n",
    "for i in range(data['text'].size):\n",
    "    data['text'].iloc[i] = re.sub(r'.', to_lowercase, data['text'].iloc[i])\n",
    "\n",
    "    # Remove unk tokens\n",
    "    data['text'].iloc[i] = re.sub(r'\\bunk\\s|\\sunk\\b', '', data['text'].iloc[i])\n",
    "    data['text'].iloc[i] = re.sub(r'\\sunk\\s', ' ', data['text'].iloc[i])\n",
    "    data['text'].iloc[i] = re.sub(r'\\bUnk\\s|\\sUnk\\b', '', data['text'].iloc[i])\n",
    "    data['text'].iloc[i] = re.sub(r'\\sUnk\\s', ' ', data['text'].iloc[i])\n",
    "    \n",
    "\n",
    "# Save the cleaned dataframe\n",
    "data.to_csv('cleaned_dataset.csv', index=False)"
   ]
  },
  {
   "cell_type": "markdown",
   "metadata": {
    "id": "zNVdf1ljk35B"
   },
   "source": [
    "## Exploratory Data Analysis Results\n",
    "The dataset includes 53005 rows and is about to offensive text. We can clearly see that our data has 2 columns which are not null: *text* and *label*. So we don't need to clear or fill the null values."
   ]
  },
  {
   "cell_type": "code",
   "execution_count": 5,
   "metadata": {
    "colab": {
     "base_uri": "https://localhost:8080/",
     "height": 81
    },
    "id": "HKvmc_sqjXkN",
    "outputId": "4da69bf1-3daf-47ef-8292-63a3b5fa1294"
   },
   "outputs": [
    {
     "data": {
      "text/html": [
       "<div>\n",
       "<style scoped>\n",
       "    .dataframe tbody tr th:only-of-type {\n",
       "        vertical-align: middle;\n",
       "    }\n",
       "\n",
       "    .dataframe tbody tr th {\n",
       "        vertical-align: top;\n",
       "    }\n",
       "\n",
       "    .dataframe thead th {\n",
       "        text-align: right;\n",
       "    }\n",
       "</style>\n",
       "<table border=\"1\" class=\"dataframe\">\n",
       "  <thead>\n",
       "    <tr style=\"text-align: right;\">\n",
       "      <th></th>\n",
       "      <th>count</th>\n",
       "      <th>mean</th>\n",
       "      <th>std</th>\n",
       "      <th>min</th>\n",
       "      <th>25%</th>\n",
       "      <th>50%</th>\n",
       "      <th>75%</th>\n",
       "      <th>max</th>\n",
       "    </tr>\n",
       "  </thead>\n",
       "  <tbody>\n",
       "    <tr>\n",
       "      <th>label</th>\n",
       "      <td>53005.0</td>\n",
       "      <td>0.463692</td>\n",
       "      <td>0.498685</td>\n",
       "      <td>0.0</td>\n",
       "      <td>0.0</td>\n",
       "      <td>0.0</td>\n",
       "      <td>1.0</td>\n",
       "      <td>1.0</td>\n",
       "    </tr>\n",
       "  </tbody>\n",
       "</table>\n",
       "</div>"
      ],
      "text/plain": [
       "         count      mean       std  min  25%  50%  75%  max\n",
       "label  53005.0  0.463692  0.498685  0.0  0.0  0.0  1.0  1.0"
      ]
     },
     "execution_count": 5,
     "metadata": {},
     "output_type": "execute_result"
    }
   ],
   "source": [
    "data.describe().T"
   ]
  },
  {
   "cell_type": "markdown",
   "metadata": {
    "id": "kEqlhnkpeSXw"
   },
   "source": [
    "### Most used words"
   ]
  },
  {
   "cell_type": "code",
   "execution_count": 6,
   "metadata": {
    "id": "wEO-rKNViXZI"
   },
   "outputs": [],
   "source": [
    "def find_most_common(data, number = 50):\n",
    "  words_filter = ['@', '.', 'USER', 'user','ve', 'bir', 'bu', 'Bu', 'de', 'ne', 'se', '!' ':', 'https', '\"', '...', '``']\n",
    "  text_list = data['text'].tolist()\n",
    "\n",
    "  # Join all the strings in the list into a single string\n",
    "  text = ' '.join(text_list)\n",
    "\n",
    "  # Tokenize the text into words\n",
    "  words = nltk.word_tokenize(text)\n",
    "  # Count the frequency of each word\n",
    "  freq_dist = FreqDist(words)\n",
    "  stopwords = nltk.corpus.stopwords.words('turkish')\n",
    "  dict_filter = lambda freq_dist, stopwords: dict( (word,freq_dist[word]) for word in freq_dist if (word not in stopwords and word not in words_filter and len(word) > 1) )\n",
    "  filtered_freq_dist = dict_filter(freq_dist, stopwords)\n",
    "\n",
    "  print(type(filtered_freq_dist))\n",
    "  # Get the most frequent words\n",
    "  most_frequent_words = FreqDist(filtered_freq_dist).most_common(number)\n",
    "  return most_frequent_words"
   ]
  },
  {
   "cell_type": "code",
   "execution_count": 7,
   "metadata": {
    "colab": {
     "base_uri": "https://localhost:8080/"
    },
    "id": "qE-SbZtzeRR_",
    "outputId": "a5560514-c165-4330-846b-225d24f609cf"
   },
   "outputs": [
    {
     "name": "stdout",
     "output_type": "stream",
     "text": [
      "<class 'dict'>\n",
      "<class 'dict'>\n"
     ]
    }
   ],
   "source": [
    "# Filter the symbols and most common adjuncts in Turkish\n",
    "# Convert the text column to a list of strings\n",
    "data_offensive = data[data['label'] == 1]\n",
    "data_not_offensive = data[data['label'] == 0]\n",
    "\n",
    "most_frequent_words_in_offensive = find_most_common(data_offensive)\n",
    "most_frequent_words_not_in_offensive = find_most_common(data_not_offensive)"
   ]
  },
  {
   "cell_type": "code",
   "execution_count": 8,
   "metadata": {
    "colab": {
     "base_uri": "https://localhost:8080/",
     "height": 618
    },
    "id": "EcEAljUhfVpL",
    "outputId": "feb329e4-4a49-4a77-c22f-f239848c9969"
   },
   "outputs": [
    {
     "data": {
      "image/png": "[encoded data removed]",
      "text/plain": [
       "<Figure size 1500x600 with 1 Axes>"
      ]
     },
     "metadata": {},
     "output_type": "display_data"
    }
   ],
   "source": [
    "# Extract the words and frequencies from the most_frequent_words list\n",
    "words, frequencies = zip(*most_frequent_words_in_offensive)\n",
    "\n",
    "# Create a bar chart of the most frequent words\n",
    "plt.figure(figsize=(15,6))\n",
    "plt.bar(words, frequencies)\n",
    "plt.xlabel(\"Words\")\n",
    "plt.xticks(rotation=45, ha='right')\n",
    "plt.ylabel(\"Frequency\")\n",
    "plt.title(\"Most Frequent Words in the Offensive Sentences\")\n",
    "plt.show()"
   ]
  },
  {
   "cell_type": "code",
   "execution_count": 9,
   "metadata": {
    "colab": {
     "base_uri": "https://localhost:8080/",
     "height": 595
    },
    "id": "9Yy4LvDmuCUq",
    "outputId": "7f5219b0-1909-4c35-8ebc-49391618ec3a"
   },
   "outputs": [
    {
     "data": {
      "image/png": "[encoded data removed]",
      "text/plain": [
       "<Figure size 1500x600 with 1 Axes>"
      ]
     },
     "metadata": {},
     "output_type": "display_data"
    }
   ],
   "source": [
    "# Extract the words and frequencies from the most_frequent_words list\n",
    "words, frequencies = zip(*most_frequent_words_not_in_offensive)\n",
    "\n",
    "# Create a bar chart of the most frequent words\n",
    "plt.figure(figsize=(15,6))\n",
    "plt.bar(words, frequencies)\n",
    "plt.xlabel(\"Words\")\n",
    "plt.xticks(rotation=45, ha='right')\n",
    "plt.ylabel(\"Frequency\")\n",
    "plt.title(\"Most Frequent Words in the Non-offensive Sentences\")\n",
    "plt.show()"
   ]
  },
  {
   "cell_type": "code",
   "execution_count": 10,
   "metadata": {
    "id": "E6ZLjZ1EekMb"
   },
   "outputs": [],
   "source": [
    "# Use bag-of-words method to vectorize text\n",
    "# 'bow' signifies the bag-of-words \n",
    "\n",
    "data = pd.read_csv('cleaned_dataset.csv', encoding='utf-8')\n",
    "vectorizer_bow = CountVectorizer(encoding='utf-8')\n",
    "X_bow = vectorizer_bow.fit_transform(data['text'].values.astype(str))\n",
    "\n",
    "# use bool type for each numeric to reduce size\n",
    "\n",
    "X_bow = X_bow.astype(bool).toarray()"
   ]
  },
  {
   "cell_type": "code",
   "execution_count": 11,
   "metadata": {},
   "outputs": [],
   "source": [
    "# Use Tf-idf vectorizer\n",
    "# 'idf' refers to the Tf-idf vectorizer\n",
    "\n",
    "vectorizer_idf = TfidfVectorizer(encoding='utf-8')\n",
    "X_idf = vectorizer_idf.fit_transform(data['text'].values.astype(str))"
   ]
  },
  {
   "cell_type": "code",
   "execution_count": 12,
   "metadata": {},
   "outputs": [
    {
     "name": "stderr",
     "output_type": "stream",
     "text": [
      "c:\\Users\\snake\\AppData\\Local\\Programs\\Python\\Python310\\lib\\site-packages\\tqdm\\auto.py:21: TqdmWarning: IProgress not found. Please update jupyter and ipywidgets. See https://ipywidgets.readthedocs.io/en/stable/user_install.html\n",
      "  from .autonotebook import tqdm as notebook_tqdm\n",
      "c:\\Users\\snake\\AppData\\Local\\Programs\\Python\\Python310\\lib\\site-packages\\torch\\_utils.py:831: UserWarning: TypedStorage is deprecated. It will be removed in the future and UntypedStorage will be the only storage class. This should only matter to you if you are using storages directly.  To access UntypedStorage directly, use tensor.untyped_storage() instead of tensor.storage()\n",
      "  return self.fget.__get__(instance, owner)()\n",
      "100%|██████████| 53005/53005 [19:02<00:00, 46.38it/s]\n"
     ]
    }
   ],
   "source": [
    "# Use 'BGE-M3' model from sentence-transformers to vectorize raw sentences\n",
    "# The results are vectors with 1024-dimensions. 'st' signifies the sentence transformers\n",
    "\n",
    "X_st= []\n",
    "vectorizer_st = text_vectorizer(method=\"sbert\", model_name_or_path=\"BAAI/bge-m3\")\n",
    "data_raw = pd.read_csv('dataset.csv', encoding='utf-8')\n",
    "for row in tqdm(data_raw['text'], total=data_raw.shape[0]):\n",
    "    X_st.append(vectorizer_st.vectorize(str(row)))"
   ]
  },
  {
   "cell_type": "code",
   "execution_count": 13,
   "metadata": {},
   "outputs": [],
   "source": [
    "# Split the resulting datasets for training and testing\n",
    "\n",
    "\n",
    "X_train_bow, X_test_bow, y_train_bow, y_test_bow = train_test_split(X_bow, data['label'].astype(bool), test_size=0.2, stratify=data['label'])\n",
    "X_train_idf, X_test_idf, y_train_idf, y_test_idf = train_test_split(X_idf, data['label'].astype(bool), test_size=0.2, stratify=data['label'])\n",
    "X_train_st, X_test_st, y_train_st, y_test_st = train_test_split(X_st, data['label'].astype(bool), test_size=0.2, stratify=data['label'])"
   ]
  },
  {
   "cell_type": "markdown",
   "metadata": {},
   "source": [
    "Model training and evaluation for Bag-of-words method"
   ]
  },
  {
   "cell_type": "code",
   "execution_count": 14,
   "metadata": {},
   "outputs": [
    {
     "name": "stdout",
     "output_type": "stream",
     "text": [
      "0.6842750683897746\n"
     ]
    }
   ],
   "source": [
    "# Decision tree\n",
    "\n",
    "model_bow_dt = DecisionTreeClassifier(max_depth=10)\n",
    "model_bow_dt.fit(X_train_bow, y_train_bow)\n",
    "predictions_bow_dt = model_bow_dt.predict(X_test_bow)\n",
    "accuracy_bow_dt = accuracy_score(y_test_bow, predictions_bow_dt)\n",
    "print(accuracy_bow_dt)"
   ]
  },
  {
   "cell_type": "code",
   "execution_count": 15,
   "metadata": {},
   "outputs": [
    {
     "name": "stdout",
     "output_type": "stream",
     "text": [
      "building tree 1 of 10\n",
      "building tree 2 of 10\n",
      "building tree 3 of 10\n",
      "building tree 4 of 10\n",
      "building tree 5 of 10\n",
      "building tree 6 of 10\n",
      "building tree 7 of 10\n",
      "building tree 8 of 10\n",
      "building tree 9 of 10\n",
      "building tree 10 of 10\n",
      "0.7233279879256674\n"
     ]
    }
   ],
   "source": [
    "# Random forest\n",
    "\n",
    "model_bow_rf = RandomForestClassifier(n_estimators=10, max_depth=10, verbose=2)\n",
    "model_bow_rf.fit(X_train_bow, y_train_bow)\n",
    "predictions_bow_rf = model_bow_rf.predict(X_test_bow)\n",
    "accuracy_bow_rf = accuracy_score(y_test_bow, predictions_bow_rf)\n",
    "print(accuracy_bow_rf)"
   ]
  },
  {
   "cell_type": "code",
   "execution_count": 16,
   "metadata": {},
   "outputs": [
    {
     "name": "stdout",
     "output_type": "stream",
     "text": [
      "0.8570889538722762\n"
     ]
    }
   ],
   "source": [
    "# Naive bayes\n",
    "\n",
    "model_bow_nb = BernoulliNB()\n",
    "model_bow_nb.fit(X_train_bow, y_train_bow)\n",
    "predictions_bow_nb = model_bow_nb.predict(X_test_bow)\n",
    "accuracy_bow_nb = accuracy_score(y_test_bow, predictions_bow_nb)\n",
    "print(accuracy_bow_nb)"
   ]
  },
  {
   "cell_type": "code",
   "execution_count": 17,
   "metadata": {},
   "outputs": [
    {
     "name": "stdout",
     "output_type": "stream",
     "text": [
      "Iteration 1, loss = 0.50946503\n",
      "Iteration 2, loss = 0.35505260\n",
      "Iteration 3, loss = 0.29493997\n",
      "Iteration 4, loss = 0.23150960\n",
      "Iteration 5, loss = 0.17946329\n",
      "Iteration 6, loss = 0.14125351\n",
      "Iteration 7, loss = 0.11761187\n",
      "Iteration 8, loss = 0.10251485\n",
      "Iteration 9, loss = 0.09507757\n",
      "Iteration 10, loss = 0.08863692\n",
      "Iteration 11, loss = 0.08323735\n",
      "Iteration 12, loss = 0.08246244\n",
      "Iteration 13, loss = 0.08042273\n",
      "Iteration 14, loss = 0.07585403\n",
      "Iteration 15, loss = 0.07281391\n",
      "Iteration 16, loss = 0.07145135\n",
      "Iteration 17, loss = 0.06919998\n",
      "Iteration 18, loss = 0.06795510\n",
      "Iteration 19, loss = 0.06760355\n",
      "Iteration 20, loss = 0.06656045\n",
      "Iteration 21, loss = 0.06593802\n",
      "Iteration 22, loss = 0.06686605\n",
      "Iteration 23, loss = 0.06685979\n",
      "Iteration 24, loss = 0.06752995\n",
      "Iteration 25, loss = 0.06562193\n",
      "Iteration 26, loss = 0.06458847\n",
      "Iteration 27, loss = 0.06389179\n",
      "Iteration 28, loss = 0.06298452\n",
      "Iteration 29, loss = 0.06330199\n",
      "Iteration 30, loss = 0.06121985\n",
      "Iteration 31, loss = 0.06014571\n",
      "Iteration 32, loss = 0.05972483\n",
      "Iteration 33, loss = 0.05979387\n",
      "Iteration 34, loss = 0.05954440\n",
      "Iteration 35, loss = 0.05974908\n",
      "Iteration 36, loss = 0.05966622\n",
      "Iteration 37, loss = 0.05943886\n",
      "Iteration 38, loss = 0.06409355\n",
      "Iteration 39, loss = 0.06706912\n",
      "Iteration 40, loss = 0.06642435\n",
      "Iteration 41, loss = 0.06270030\n",
      "Iteration 42, loss = 0.06013154\n",
      "Iteration 43, loss = 0.05896843\n",
      "Iteration 44, loss = 0.05898694\n",
      "Iteration 45, loss = 0.05847635\n",
      "Iteration 46, loss = 0.05864588\n",
      "Iteration 47, loss = 0.05933920\n",
      "Iteration 48, loss = 0.05802619\n",
      "Iteration 49, loss = 0.05776208\n",
      "Iteration 50, loss = 0.05753720\n",
      "Iteration 51, loss = 0.05758303\n",
      "Iteration 52, loss = 0.05848483\n",
      "Iteration 53, loss = 0.05987918\n",
      "Iteration 54, loss = 0.06221622\n",
      "Iteration 55, loss = 0.06049425\n",
      "Iteration 56, loss = 0.05936850\n",
      "Iteration 57, loss = 0.05887675\n",
      "Iteration 58, loss = 0.05934794\n",
      "Iteration 59, loss = 0.05828008\n",
      "Iteration 60, loss = 0.05735434\n",
      "Iteration 61, loss = 0.05693362\n",
      "Iteration 62, loss = 0.05654568\n",
      "Iteration 63, loss = 0.05704640\n",
      "Iteration 64, loss = 0.05708342\n",
      "Iteration 65, loss = 0.05718030\n",
      "Iteration 66, loss = 0.05717438\n",
      "Iteration 67, loss = 0.05750735\n",
      "Iteration 68, loss = 0.05802477\n",
      "Iteration 69, loss = 0.05714797\n",
      "Iteration 70, loss = 0.05771287\n",
      "Iteration 71, loss = 0.05620915\n",
      "Iteration 72, loss = 0.05725776\n",
      "Iteration 73, loss = 0.05781337\n",
      "Iteration 74, loss = 0.05850151\n",
      "Iteration 75, loss = 0.05686393\n",
      "Iteration 76, loss = 0.05627578\n",
      "Iteration 77, loss = 0.05561092\n",
      "Iteration 78, loss = 0.05542073\n",
      "Iteration 79, loss = 0.05521960\n",
      "Iteration 80, loss = 0.05495984\n",
      "Iteration 81, loss = 0.05503369\n",
      "Iteration 82, loss = 0.05501925\n",
      "Iteration 83, loss = 0.05500046\n",
      "Iteration 84, loss = 0.05521179\n",
      "Iteration 85, loss = 0.05713127\n",
      "Iteration 86, loss = 0.06206894\n",
      "Iteration 87, loss = 0.06225011\n",
      "Iteration 88, loss = 0.05712770\n",
      "Iteration 89, loss = 0.05416396\n",
      "Iteration 90, loss = 0.05375008\n",
      "Iteration 91, loss = 0.05364094\n",
      "Iteration 92, loss = 0.05359971\n",
      "Iteration 93, loss = 0.05364443\n",
      "Iteration 94, loss = 0.05354511\n",
      "Iteration 95, loss = 0.05354172\n",
      "Iteration 96, loss = 0.05360573\n",
      "Iteration 97, loss = 0.05399966\n",
      "Iteration 98, loss = 0.05575360\n",
      "Iteration 99, loss = 0.05675220\n",
      "Iteration 100, loss = 0.05694544\n",
      "Iteration 101, loss = 0.05456743\n",
      "Iteration 102, loss = 0.05386673\n",
      "Training loss did not improve more than tol=0.000100 for 10 consecutive epochs. Stopping.\n",
      "0.8203943024242996\n"
     ]
    }
   ],
   "source": [
    "# Multilayer perceptron\n",
    "\n",
    "model_bow_mlp = MLPClassifier(hidden_layer_sizes=[64,64,64, 2], verbose=2)\n",
    "model_bow_mlp.fit(X_train_bow, y_train_bow)\n",
    "predictions_bow_mlp = model_bow_mlp.predict(X_test_bow)\n",
    "accuracy_bow_mlp = accuracy_score(y_test_bow, predictions_bow_mlp)\n",
    "print(accuracy_bow_mlp)"
   ]
  },
  {
   "cell_type": "markdown",
   "metadata": {},
   "source": [
    "Model training and evaluation for Tf-idf method"
   ]
  },
  {
   "cell_type": "code",
   "execution_count": 18,
   "metadata": {},
   "outputs": [
    {
     "name": "stdout",
     "output_type": "stream",
     "text": [
      "0.6774832562965758\n"
     ]
    }
   ],
   "source": [
    "# Decision tree\n",
    "\n",
    "model_idf_dt = DecisionTreeClassifier(max_depth=10)\n",
    "model_idf_dt.fit(X_train_idf, y_train_idf)\n",
    "predictions_idf_dt = model_idf_dt.predict(X_test_idf)\n",
    "accuracy_idf_dt = accuracy_score(y_test_idf, predictions_idf_dt)\n",
    "print(accuracy_idf_dt)"
   ]
  },
  {
   "cell_type": "code",
   "execution_count": 19,
   "metadata": {},
   "outputs": [
    {
     "name": "stdout",
     "output_type": "stream",
     "text": [
      "building tree 1 of 10\n",
      "building tree 2 of 10\n",
      "building tree 3 of 10\n",
      "building tree 4 of 10\n",
      "building tree 5 of 10\n",
      "building tree 6 of 10\n",
      "building tree 7 of 10\n",
      "building tree 8 of 10\n",
      "building tree 9 of 10\n",
      "building tree 10 of 10\n",
      "0.6951231015941892\n"
     ]
    }
   ],
   "source": [
    "# Random forest\n",
    "\n",
    "model_idf_rf = RandomForestClassifier(n_estimators=10, max_depth=10, verbose=2)\n",
    "model_idf_rf.fit(X_train_idf, y_train_idf)\n",
    "predictions_idf_rf = model_idf_rf.predict(X_test_idf)\n",
    "accuracy_idf_rf = accuracy_score(y_test_idf, predictions_idf_rf)\n",
    "print(accuracy_idf_rf)"
   ]
  },
  {
   "cell_type": "code",
   "execution_count": 20,
   "metadata": {},
   "outputs": [
    {
     "name": "stdout",
     "output_type": "stream",
     "text": [
      "0.8502028110555608\n"
     ]
    }
   ],
   "source": [
    "# Naive bayes\n",
    "\n",
    "model_idf_nb = MultinomialNB()\n",
    "model_idf_nb.fit(X_train_idf, y_train_idf)\n",
    "predictions_idf_nb = model_idf_nb.predict(X_test_idf)\n",
    "accuracy_idf_nb = accuracy_score(y_test_idf, predictions_idf_nb)\n",
    "print(accuracy_idf_nb)\n"
   ]
  },
  {
   "cell_type": "code",
   "execution_count": 39,
   "metadata": {},
   "outputs": [
    {
     "name": "stdout",
     "output_type": "stream",
     "text": [
      "Iteration 1, loss = 0.47949472\n",
      "Iteration 2, loss = 0.33849523\n",
      "Iteration 3, loss = 0.29745885\n",
      "Iteration 4, loss = 0.27111341\n",
      "Iteration 5, loss = 0.25038864\n",
      "Iteration 6, loss = 0.23229586\n",
      "Iteration 7, loss = 0.21662349\n",
      "Iteration 8, loss = 0.20400113\n",
      "Iteration 9, loss = 0.19340924\n",
      "Iteration 10, loss = 0.18634609\n",
      "Iteration 11, loss = 0.18185778\n",
      "Iteration 12, loss = 0.18020909\n",
      "Iteration 13, loss = 0.17928106\n",
      "Iteration 14, loss = 0.17937395\n",
      "Iteration 15, loss = 0.17692281\n",
      "Iteration 16, loss = 0.17562981\n",
      "Iteration 17, loss = 0.17466792\n",
      "Iteration 18, loss = 0.17423904\n",
      "Iteration 19, loss = 0.17429182\n",
      "Iteration 20, loss = 0.17334089\n",
      "Iteration 21, loss = 0.17370865\n",
      "Iteration 22, loss = 0.17245296\n",
      "Iteration 23, loss = 0.17305125\n",
      "Iteration 24, loss = 0.17378669\n",
      "Iteration 25, loss = 0.17348640\n",
      "Iteration 26, loss = 0.17315517\n",
      "Iteration 27, loss = 0.17186071\n",
      "Iteration 28, loss = 0.17137846\n",
      "Iteration 29, loss = 0.17059518\n",
      "Iteration 30, loss = 0.17058134\n",
      "Iteration 31, loss = 0.17009114\n",
      "Iteration 32, loss = 0.16979772\n",
      "Iteration 33, loss = 0.16961097\n",
      "Iteration 34, loss = 0.16940154\n",
      "Iteration 35, loss = 0.16926835\n",
      "Iteration 36, loss = 0.16923289\n",
      "Iteration 37, loss = 0.16922616\n",
      "Iteration 38, loss = 0.16922012\n",
      "Iteration 39, loss = 0.16986038\n",
      "Iteration 40, loss = 0.17350871\n",
      "Iteration 41, loss = 0.17537049\n",
      "Iteration 42, loss = 0.17281633\n",
      "Iteration 43, loss = 0.17028215\n",
      "Iteration 44, loss = 0.16884538\n",
      "Iteration 45, loss = 0.16832577\n",
      "Iteration 46, loss = 0.16781002\n",
      "Iteration 47, loss = 0.16782555\n",
      "Iteration 48, loss = 0.16742193\n",
      "Iteration 49, loss = 0.16750789\n",
      "Iteration 50, loss = 0.16721129\n",
      "Iteration 51, loss = 0.16707551\n",
      "Iteration 52, loss = 0.16697567\n",
      "Iteration 53, loss = 0.16700627\n",
      "Iteration 54, loss = 0.16745397\n",
      "Iteration 55, loss = 0.16891749\n",
      "Iteration 56, loss = 0.17044467\n",
      "Iteration 57, loss = 0.17064292\n",
      "Iteration 58, loss = 0.16815135\n",
      "Iteration 59, loss = 0.16703484\n",
      "Iteration 60, loss = 0.16631442\n",
      "Iteration 61, loss = 0.16599727\n",
      "Iteration 62, loss = 0.16596550\n",
      "Iteration 63, loss = 0.16595328\n",
      "Iteration 64, loss = 0.16594915\n",
      "Iteration 65, loss = 0.16600158\n",
      "Iteration 66, loss = 0.16602261\n",
      "Iteration 67, loss = 0.16581188\n",
      "Iteration 68, loss = 0.16583272\n",
      "Iteration 69, loss = 0.16607156\n",
      "Iteration 70, loss = 0.16651225\n",
      "Iteration 71, loss = 0.16752260\n",
      "Iteration 72, loss = 0.16758604\n",
      "Iteration 73, loss = 0.16703669\n",
      "Iteration 74, loss = 0.16622325\n",
      "Iteration 75, loss = 0.16563890\n",
      "Iteration 76, loss = 0.16540911\n",
      "Iteration 77, loss = 0.16540570\n",
      "Iteration 78, loss = 0.16528122\n",
      "Iteration 79, loss = 0.16530513\n",
      "Iteration 80, loss = 0.16520082\n",
      "Iteration 81, loss = 0.16530930\n",
      "Iteration 82, loss = 0.16548544\n",
      "Iteration 83, loss = 0.16507039\n",
      "Iteration 84, loss = 0.16479627\n",
      "Iteration 85, loss = 0.16385639\n",
      "Iteration 86, loss = 0.16408765\n",
      "Iteration 87, loss = 0.16375440\n",
      "Iteration 88, loss = 0.16366613\n",
      "Iteration 89, loss = 0.16363365\n",
      "Iteration 90, loss = 0.16380186\n",
      "Iteration 91, loss = 0.16421235\n",
      "Iteration 92, loss = 0.16426090\n",
      "Iteration 93, loss = 0.16476417\n",
      "Iteration 94, loss = 0.16409655\n",
      "Iteration 95, loss = 0.16372731\n",
      "Iteration 96, loss = 0.16398019\n",
      "Iteration 97, loss = 0.16369627\n",
      "Iteration 98, loss = 0.16297238\n",
      "Iteration 99, loss = 0.16282601\n",
      "Iteration 100, loss = 0.16296664\n",
      "Iteration 101, loss = 0.16274875\n",
      "Iteration 102, loss = 0.16264290\n",
      "Iteration 103, loss = 0.16281344\n",
      "Iteration 104, loss = 0.16296578\n",
      "Iteration 105, loss = 0.16299890\n",
      "Iteration 106, loss = 0.16402023\n",
      "Iteration 107, loss = 0.16475518\n",
      "Iteration 108, loss = 0.16348437\n",
      "Iteration 109, loss = 0.16238419\n",
      "Iteration 110, loss = 0.16207555\n",
      "Iteration 111, loss = 0.16154182\n",
      "Iteration 112, loss = 0.16150513\n",
      "Iteration 113, loss = 0.16148704\n",
      "Iteration 114, loss = 0.16150423\n",
      "Iteration 115, loss = 0.16149823\n",
      "Iteration 116, loss = 0.16148321\n",
      "Iteration 117, loss = 0.16177311\n",
      "Iteration 118, loss = 0.16261514\n",
      "Iteration 119, loss = 0.16354303\n",
      "Iteration 120, loss = 0.16263280\n",
      "Iteration 121, loss = 0.16226079\n",
      "Iteration 122, loss = 0.16188922\n",
      "Training loss did not improve more than tol=0.000100 for 10 consecutive epochs. Stopping.\n",
      "0.8277520988585982\n"
     ]
    }
   ],
   "source": [
    "# Multilayer perceptron\n",
    "\n",
    "model_idf_mlp = MLPClassifier(hidden_layer_sizes=[64,64,64, 2], verbose=2)\n",
    "model_idf_mlp.fit(X_train_idf, y_train_idf)\n",
    "predictions_idf_mlp = model_idf_mlp.predict(X_test_idf)\n",
    "accuracy_idf_mlp = accuracy_score(y_test_idf, predictions_idf_mlp)\n",
    "print(accuracy_idf_mlp)"
   ]
  },
  {
   "cell_type": "markdown",
   "metadata": {},
   "source": [
    "Model training and evaluation for Sentence Transformers method"
   ]
  },
  {
   "cell_type": "code",
   "execution_count": 22,
   "metadata": {},
   "outputs": [
    {
     "name": "stdout",
     "output_type": "stream",
     "text": [
      "0.7413451561173474\n"
     ]
    }
   ],
   "source": [
    "# Decision tree\n",
    "\n",
    "model_st_dt = DecisionTreeClassifier(max_depth=10)\n",
    "model_st_dt.fit(X_train_st, y_train_st)\n",
    "predictions_st_dt = model_st_dt.predict(X_test_st)\n",
    "accuracy_st_dt = accuracy_score(y_test_st, predictions_st_dt)\n",
    "print(accuracy_st_dt)"
   ]
  },
  {
   "cell_type": "code",
   "execution_count": 23,
   "metadata": {},
   "outputs": [
    {
     "name": "stdout",
     "output_type": "stream",
     "text": [
      "building tree 1 of 10\n",
      "building tree 2 of 10\n",
      "building tree 3 of 10\n",
      "building tree 4 of 10\n",
      "building tree 5 of 10\n",
      "building tree 6 of 10\n",
      "building tree 7 of 10\n",
      "building tree 8 of 10\n",
      "building tree 9 of 10\n",
      "building tree 10 of 10\n",
      "0.8100179228374682\n"
     ]
    }
   ],
   "source": [
    "# Random forest\n",
    "\n",
    "model_st_rf = RandomForestClassifier(n_estimators=10, max_depth=10, verbose=2)\n",
    "model_st_rf.fit(X_train_st, y_train_st)\n",
    "predictions_st_rf = model_st_rf.predict(X_test_st)\n",
    "accuracy_st_rf = accuracy_score(y_test_st, predictions_st_rf)\n",
    "print(accuracy_st_rf)"
   ]
  },
  {
   "cell_type": "code",
   "execution_count": 24,
   "metadata": {},
   "outputs": [
    {
     "name": "stdout",
     "output_type": "stream",
     "text": [
      "0.8447316290915952\n"
     ]
    }
   ],
   "source": [
    "# Naive bayes\n",
    "\n",
    "model_st_nb = GaussianNB()\n",
    "model_st_nb.fit(X_train_st, y_train_st)\n",
    "predictions_st_nb = model_st_nb.predict(X_test_st)\n",
    "accuracy_st_nb = accuracy_score(y_test_st, predictions_st_nb)\n",
    "print(accuracy_st_nb)\n"
   ]
  },
  {
   "cell_type": "code",
   "execution_count": 25,
   "metadata": {},
   "outputs": [
    {
     "name": "stdout",
     "output_type": "stream",
     "text": [
      "Iteration 1, loss = 0.44507693\n",
      "Iteration 2, loss = 0.36296791\n",
      "Iteration 3, loss = 0.34382971\n",
      "Iteration 4, loss = 0.32667486\n",
      "Iteration 5, loss = 0.31011349\n",
      "Iteration 6, loss = 0.29535970\n",
      "Iteration 7, loss = 0.27860272\n",
      "Iteration 8, loss = 0.26405254\n",
      "Iteration 9, loss = 0.25077558\n",
      "Iteration 10, loss = 0.23477763\n",
      "Iteration 11, loss = 0.22491447\n",
      "Iteration 12, loss = 0.20846463\n",
      "Iteration 13, loss = 0.19346449\n",
      "Iteration 14, loss = 0.18562576\n",
      "Iteration 15, loss = 0.16925937\n",
      "Iteration 16, loss = 0.15918122\n",
      "Iteration 17, loss = 0.14691668\n",
      "Iteration 18, loss = 0.14458999\n",
      "Iteration 19, loss = 0.12487050\n",
      "Iteration 20, loss = 0.11823370\n",
      "Iteration 21, loss = 0.12632045\n",
      "Iteration 22, loss = 0.10115247\n",
      "Iteration 23, loss = 0.09432770\n",
      "Iteration 24, loss = 0.09198105\n",
      "Iteration 25, loss = 0.11664336\n",
      "Iteration 26, loss = 0.08406636\n",
      "Iteration 27, loss = 0.07122428\n",
      "Iteration 28, loss = 0.06657848\n",
      "Iteration 29, loss = 0.06126695\n",
      "Iteration 30, loss = 0.05918891\n",
      "Iteration 31, loss = 0.06012535\n",
      "Iteration 32, loss = 0.05768088\n",
      "Iteration 33, loss = 0.05239392\n",
      "Iteration 34, loss = 0.04543625\n",
      "Iteration 35, loss = 0.05046902\n",
      "Iteration 36, loss = 0.04807556\n",
      "Iteration 37, loss = 0.04438003\n",
      "Iteration 38, loss = 0.04118874\n",
      "Iteration 39, loss = 0.04717336\n",
      "Iteration 40, loss = 0.04232721\n",
      "Iteration 41, loss = 0.04111220\n",
      "Iteration 42, loss = 0.04144330\n",
      "Iteration 43, loss = 0.05247763\n",
      "Iteration 44, loss = 0.03476364\n",
      "Iteration 45, loss = 0.03431232\n",
      "Iteration 46, loss = 0.03615742\n",
      "Iteration 47, loss = 0.03813722\n",
      "Iteration 48, loss = 0.03344323\n",
      "Iteration 49, loss = 0.03344507\n",
      "Iteration 50, loss = 0.03483925\n",
      "Iteration 51, loss = 0.03587474\n",
      "Iteration 52, loss = 0.03655562\n",
      "Iteration 53, loss = 0.03797332\n",
      "Iteration 54, loss = 0.03556386\n",
      "Iteration 55, loss = 0.03074232\n",
      "Iteration 56, loss = 0.04225116\n",
      "Iteration 57, loss = 0.03143659\n",
      "Iteration 58, loss = 0.03066709\n",
      "Iteration 59, loss = 0.02677714\n",
      "Iteration 60, loss = 0.02531548\n",
      "Iteration 61, loss = 0.04489305\n",
      "Iteration 62, loss = 0.03896416\n",
      "Iteration 63, loss = 0.02793641\n",
      "Iteration 64, loss = 0.02692066\n",
      "Iteration 65, loss = 0.02782596\n",
      "Iteration 66, loss = 0.04360592\n",
      "Iteration 67, loss = 0.03427113\n",
      "Iteration 68, loss = 0.02397594\n",
      "Iteration 69, loss = 0.02445971\n",
      "Iteration 70, loss = 0.14916128\n",
      "Iteration 71, loss = 0.03784544\n",
      "Iteration 72, loss = 0.02533088\n",
      "Iteration 73, loss = 0.02273469\n",
      "Iteration 74, loss = 0.02142225\n",
      "Iteration 75, loss = 0.02081243\n",
      "Iteration 76, loss = 0.02068556\n",
      "Iteration 77, loss = 0.02063389\n",
      "Iteration 78, loss = 0.02060108\n",
      "Iteration 79, loss = 0.02057818\n",
      "Iteration 80, loss = 0.02056084\n",
      "Iteration 81, loss = 0.02054747\n",
      "Iteration 82, loss = 0.02053726\n",
      "Iteration 83, loss = 0.02053009\n",
      "Iteration 84, loss = 0.02052294\n",
      "Iteration 85, loss = 0.02051866\n",
      "Iteration 86, loss = 0.02051444\n",
      "Iteration 87, loss = 0.02051100\n",
      "Training loss did not improve more than tol=0.000100 for 10 consecutive epochs. Stopping.\n",
      "0.8684086406942741\n"
     ]
    }
   ],
   "source": [
    "# Multilayer perceptron\n",
    "\n",
    "model_st_mlp = MLPClassifier(hidden_layer_sizes=[64,64,64, 2], verbose=2)\n",
    "model_st_mlp.fit(X_train_st, y_train_st)\n",
    "predictions_st_mlp = model_st_mlp.predict(X_test_st)\n",
    "accuracy_st_mlp = accuracy_score(y_test_st, predictions_st_mlp)\n",
    "print(accuracy_st_mlp)\n"
   ]
  }
 ],
 "metadata": {
  "colab": {
   "provenance": []
  },
  "kernelspec": {
   "display_name": "Python 3 (ipykernel)",
   "language": "python",
   "name": "python3"
  },
  "language_info": {
   "codemirror_mode": {
    "name": "ipython",
    "version": 3
   },
   "file_extension": ".py",
   "mimetype": "text/x-python",
   "name": "python",
   "nbconvert_exporter": "python",
   "pygments_lexer": "ipython3",
   "version": "3.10.11"
  }
 },
 "nbformat": 4,
 "nbformat_minor": 4
}
