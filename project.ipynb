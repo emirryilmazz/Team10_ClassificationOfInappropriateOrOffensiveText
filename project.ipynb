{
 "cells": [
  {
   "cell_type": "code",
   "execution_count": 4,
   "metadata": {},
   "outputs": [],
   "source": [
    "import pandas as pd\n",
    "\n",
    "# Load the dataset\n",
    "data = pd.read_csv('dataset.csv')\n",
    "\n",
    "# Function to clean text by removing mentioned phrases\n",
    "def clean_text(text):\n",
    "    text = text.replace(\"@USER \", \"\")\n",
    "    text = text.replace(\"@USER\", \"\")\n",
    "    return text\n",
    "\n",
    "# Apply the cleaning function to the 'text' column\n",
    "data['text'] = data['text'].apply(clean_text)\n",
    "\n",
    "# Remove emojis from the samples\n",
    "data.astype(str).apply(lambda x: x.str.encode('ascii', 'ignore').str.decode('ascii'))\n",
    "\n",
    "# Save the cleaned dataframe\n",
    "data.to_csv('cleaned_dataset.csv', index=False)"
   ]
  }
 ],
 "metadata": {
  "kernelspec": {
   "display_name": "Python 3",
   "language": "python",
   "name": "python3"
  },
  "language_info": {
   "codemirror_mode": {
    "name": "ipython",
    "version": 3
   },
   "file_extension": ".py",
   "mimetype": "text/x-python",
   "name": "python",
   "nbconvert_exporter": "python",
   "pygments_lexer": "ipython3",
   "version": "3.10.11"
  }
 },
 "nbformat": 4,
 "nbformat_minor": 2
}
