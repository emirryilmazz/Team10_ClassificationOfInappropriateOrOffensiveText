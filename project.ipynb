{
 "cells": [
  {
   "cell_type": "markdown",
   "metadata": {
    "id": "MP2wU5OtihT6"
   },
   "source": [
    "# Classification of Inappropriate/Offensive Text"
   ]
  },
  {
   "cell_type": "markdown",
   "metadata": {
    "id": "zmFLzbUMivyU"
   },
   "source": [
    "## Import the essentials"
   ]
  },
  {
   "cell_type": "code",
   "execution_count": 1,
   "metadata": {
    "colab": {
     "base_uri": "https://localhost:8080/",
     "height": 276
    },
    "id": "mHJ4wBofhr8S",
    "outputId": "040bd05f-16f1-417a-82a1-42696f843643"
   },
   "outputs": [
    {
     "name": "stderr",
     "output_type": "stream",
     "text": [
      "[nltk_data] Downloading package stopwords to\n",
      "[nltk_data]     C:\\Users\\batuh\\AppData\\Roaming\\nltk_data...\n",
      "[nltk_data]   Package stopwords is already up-to-date!\n",
      "[nltk_data] Downloading package punkt to\n",
      "[nltk_data]     C:\\Users\\batuh\\AppData\\Roaming\\nltk_data...\n",
      "[nltk_data]   Package punkt is already up-to-date!\n"
     ]
    },
    {
     "data": {
      "text/html": [
       "<div>\n",
       "<style scoped>\n",
       "    .dataframe tbody tr th:only-of-type {\n",
       "        vertical-align: middle;\n",
       "    }\n",
       "\n",
       "    .dataframe tbody tr th {\n",
       "        vertical-align: top;\n",
       "    }\n",
       "\n",
       "    .dataframe thead th {\n",
       "        text-align: right;\n",
       "    }\n",
       "</style>\n",
       "<table border=\"1\" class=\"dataframe\">\n",
       "  <thead>\n",
       "    <tr style=\"text-align: right;\">\n",
       "      <th></th>\n",
       "      <th>text</th>\n",
       "      <th>label</th>\n",
       "    </tr>\n",
       "  </thead>\n",
       "  <tbody>\n",
       "    <tr>\n",
       "      <th>0</th>\n",
       "      <td>Gerçekten sizin hikayelerinizi izleyerek mi ye...</td>\n",
       "      <td>0</td>\n",
       "    </tr>\n",
       "    <tr>\n",
       "      <th>1</th>\n",
       "      <td>@USER Çoook çok bi baklava bi sen zaten</td>\n",
       "      <td>0</td>\n",
       "    </tr>\n",
       "    <tr>\n",
       "      <th>2</th>\n",
       "      <td>1) Sn. DÜKEL; Atatürk'ün, Karma E. M. ile başl...</td>\n",
       "      <td>0</td>\n",
       "    </tr>\n",
       "    <tr>\n",
       "      <th>3</th>\n",
       "      <td>Konfederasyonumuzun Aile ve Sosyal Politikalar...</td>\n",
       "      <td>0</td>\n",
       "    </tr>\n",
       "    <tr>\n",
       "      <th>4</th>\n",
       "      <td>Hakemler tarih yazıyorlar / 9 kişiye karşı 3-2...</td>\n",
       "      <td>1</td>\n",
       "    </tr>\n",
       "  </tbody>\n",
       "</table>\n",
       "</div>"
      ],
      "text/plain": [
       "                                                text  label\n",
       "0  Gerçekten sizin hikayelerinizi izleyerek mi ye...      0\n",
       "1            @USER Çoook çok bi baklava bi sen zaten      0\n",
       "2  1) Sn. DÜKEL; Atatürk'ün, Karma E. M. ile başl...      0\n",
       "3  Konfederasyonumuzun Aile ve Sosyal Politikalar...      0\n",
       "4  Hakemler tarih yazıyorlar / 9 kişiye karşı 3-2...      1"
      ]
     },
     "execution_count": 1,
     "metadata": {},
     "output_type": "execute_result"
    }
   ],
   "source": [
    "import pandas as pd\n",
    "import numpy as np\n",
    "#import matplotlib.pyplot as plt\n",
    "import nltk\n",
    "from nltk import FreqDist\n",
    "nltk.download('stopwords')\n",
    "nltk.download('punkt')\n",
    "\n",
    "# Load the dataset\n",
    "data = pd.read_csv('dataset.csv')\n",
    "data.head()"
   ]
  },
  {
   "cell_type": "code",
   "execution_count": null,
   "metadata": {
    "id": "TW2ll7l2eLkX"
   },
   "outputs": [],
   "source": []
  },
  {
   "cell_type": "markdown",
   "metadata": {
    "id": "ciDALDINikWj"
   },
   "source": [
    "## Data Preprocessing Part"
   ]
  },
  {
   "cell_type": "code",
   "execution_count": 2,
   "metadata": {
    "colab": {
     "base_uri": "https://localhost:8080/"
    },
    "id": "tE0aIKatlyOl",
    "outputId": "9a7b38ff-c99f-4185-9ee6-6e6d402d7fdd"
   },
   "outputs": [
    {
     "name": "stdout",
     "output_type": "stream",
     "text": [
      "<class 'pandas.core.frame.DataFrame'>\n",
      "RangeIndex: 53005 entries, 0 to 53004\n",
      "Data columns (total 2 columns):\n",
      " #   Column  Non-Null Count  Dtype \n",
      "---  ------  --------------  ----- \n",
      " 0   text    53005 non-null  object\n",
      " 1   label   53005 non-null  int64 \n",
      "dtypes: int64(1), object(1)\n",
      "memory usage: 828.3+ KB\n"
     ]
    }
   ],
   "source": [
    "data.info()"
   ]
  },
  {
   "cell_type": "code",
   "execution_count": 3,
   "metadata": {
    "id": "wnFCVPjhh7S2"
   },
   "outputs": [],
   "source": [
    "# Function to remove unnecessary user tags from the entries\n",
    "def clean_text(text):\n",
    "    text = text.replace(\"@USER \", \"\")\n",
    "    text = text.replace(\"@USER\", \"\")\n",
    "    return text\n",
    "\n",
    "# Apply the cleaning function to the 'text' column\n",
    "data['text'] = data['text'].apply(clean_text)\n",
    "\n",
    "# Remove emojis from the samples\n",
    "data.astype(str).apply(lambda x: x.str.encode('ascii', 'ignore').str.decode('ascii'))\n",
    "\n",
    "# Save the cleaned dataframe\n",
    "data.to_csv('cleaned_dataset.csv', index=False)"
   ]
  },
  {
   "cell_type": "markdown",
   "metadata": {
    "id": "zNVdf1ljk35B"
   },
   "source": [
    "## Exploratory Data Analysis Results\n",
    "The dataset includes 53005 rows and is about to offensive text. We can clearly see that our data has 2 columns which are not null: *text* and *label*. So we don't need to clear or fill the null values."
   ]
  },
  {
   "cell_type": "code",
   "execution_count": 4,
   "metadata": {
    "colab": {
     "base_uri": "https://localhost:8080/",
     "height": 81
    },
    "id": "HKvmc_sqjXkN",
    "outputId": "4da69bf1-3daf-47ef-8292-63a3b5fa1294"
   },
   "outputs": [
    {
     "data": {
      "text/html": [
       "<div>\n",
       "<style scoped>\n",
       "    .dataframe tbody tr th:only-of-type {\n",
       "        vertical-align: middle;\n",
       "    }\n",
       "\n",
       "    .dataframe tbody tr th {\n",
       "        vertical-align: top;\n",
       "    }\n",
       "\n",
       "    .dataframe thead th {\n",
       "        text-align: right;\n",
       "    }\n",
       "</style>\n",
       "<table border=\"1\" class=\"dataframe\">\n",
       "  <thead>\n",
       "    <tr style=\"text-align: right;\">\n",
       "      <th></th>\n",
       "      <th>count</th>\n",
       "      <th>mean</th>\n",
       "      <th>std</th>\n",
       "      <th>min</th>\n",
       "      <th>25%</th>\n",
       "      <th>50%</th>\n",
       "      <th>75%</th>\n",
       "      <th>max</th>\n",
       "    </tr>\n",
       "  </thead>\n",
       "  <tbody>\n",
       "    <tr>\n",
       "      <th>label</th>\n",
       "      <td>53005.0</td>\n",
       "      <td>0.463692</td>\n",
       "      <td>0.498685</td>\n",
       "      <td>0.0</td>\n",
       "      <td>0.0</td>\n",
       "      <td>0.0</td>\n",
       "      <td>1.0</td>\n",
       "      <td>1.0</td>\n",
       "    </tr>\n",
       "  </tbody>\n",
       "</table>\n",
       "</div>"
      ],
      "text/plain": [
       "         count      mean       std  min  25%  50%  75%  max\n",
       "label  53005.0  0.463692  0.498685  0.0  0.0  0.0  1.0  1.0"
      ]
     },
     "execution_count": 4,
     "metadata": {},
     "output_type": "execute_result"
    }
   ],
   "source": [
    "data.describe().T"
   ]
  },
  {
   "cell_type": "markdown",
   "metadata": {
    "id": "kEqlhnkpeSXw"
   },
   "source": [
    "### Most used words"
   ]
  },
  {
   "cell_type": "code",
   "execution_count": 5,
   "metadata": {
    "id": "wEO-rKNViXZI"
   },
   "outputs": [],
   "source": [
    "def find_most_common(data, number = 50):\n",
    "  words_filter = ['@', '.', 'USER', ',', '#', 've', 'bir', 'bu', 'Bu', 'de', 'ne', '!' ':', 'https', '\"', '...', '``']\n",
    "  text_list = data['text'].tolist()\n",
    "\n",
    "  # Join all the strings in the list into a single string\n",
    "  text = ' '.join(text_list)\n",
    "\n",
    "  # Tokenize the text into words\n",
    "  words = nltk.word_tokenize(text)\n",
    "  # Count the frequency of each word\n",
    "  freq_dist = FreqDist(words)\n",
    "  stopwords = nltk.corpus.stopwords.words('turkish')\n",
    "  dict_filter = lambda freq_dist, stopwords: dict( (word,freq_dist[word]) for word in freq_dist if (word not in stopwords and word not in words_filter and len(word) > 1) )\n",
    "  filtered_freq_dist = dict_filter(freq_dist, stopwords)\n",
    "\n",
    "  print(type(filtered_freq_dist))\n",
    "  # Get the most frequent words\n",
    "  most_frequent_words = FreqDist(filtered_freq_dist).most_common(number)\n",
    "  return most_frequent_words"
   ]
  },
  {
   "cell_type": "code",
   "execution_count": 6,
   "metadata": {
    "colab": {
     "base_uri": "https://localhost:8080/"
    },
    "id": "qE-SbZtzeRR_",
    "outputId": "a5560514-c165-4330-846b-225d24f609cf"
   },
   "outputs": [
    {
     "name": "stdout",
     "output_type": "stream",
     "text": [
      "<class 'dict'>\n",
      "<class 'dict'>\n"
     ]
    }
   ],
   "source": [
    "# Filter the symbols and most common adjuncts in Turkish\n",
    "# Convert the text column to a list of strings\n",
    "data_offensive = data[data['label'] == 1]\n",
    "data_not_offensive = data[data['label'] == 0]\n",
    "\n",
    "most_frequent_words_in_offensive = find_most_common(data_offensive)\n",
    "most_frequent_words_not_in_offensive = find_most_common(data_not_offensive)"
   ]
  },
  {
   "cell_type": "code",
   "execution_count": 8,
   "metadata": {
    "colab": {
     "base_uri": "https://localhost:8080/",
     "height": 618
    },
    "id": "EcEAljUhfVpL",
    "outputId": "feb329e4-4a49-4a77-c22f-f239848c9969"
   },
   "outputs": [
    {
     "ename": "NameError",
     "evalue": "name 'plt' is not defined",
     "output_type": "error",
     "traceback": [
      "\u001b[1;31m---------------------------------------------------------------------------\u001b[0m",
      "\u001b[1;31mNameError\u001b[0m                                 Traceback (most recent call last)",
      "Cell \u001b[1;32mIn[8], line 5\u001b[0m\n\u001b[0;32m      2\u001b[0m words, frequencies \u001b[38;5;241m=\u001b[39m \u001b[38;5;28mzip\u001b[39m(\u001b[38;5;241m*\u001b[39mmost_frequent_words_in_offensive)\n\u001b[0;32m      4\u001b[0m \u001b[38;5;66;03m# Create a bar chart of the most frequent words\u001b[39;00m\n\u001b[1;32m----> 5\u001b[0m \u001b[43mplt\u001b[49m\u001b[38;5;241m.\u001b[39mfigure(figsize\u001b[38;5;241m=\u001b[39m(\u001b[38;5;241m15\u001b[39m,\u001b[38;5;241m6\u001b[39m))\n\u001b[0;32m      6\u001b[0m plt\u001b[38;5;241m.\u001b[39mbar(words, frequencies)\n\u001b[0;32m      7\u001b[0m plt\u001b[38;5;241m.\u001b[39mxlabel(\u001b[38;5;124m\"\u001b[39m\u001b[38;5;124mWords\u001b[39m\u001b[38;5;124m\"\u001b[39m)\n",
      "\u001b[1;31mNameError\u001b[0m: name 'plt' is not defined"
     ]
    }
   ],
   "source": [
    "# Extract the words and frequencies from the most_frequent_words list\n",
    "words, frequencies = zip(*most_frequent_words_in_offensive)\n",
    "\n",
    "# Create a bar chart of the most frequent words\n",
    "plt.figure(figsize=(15,6))\n",
    "plt.bar(words, frequencies)\n",
    "plt.xlabel(\"Words\")\n",
    "plt.xticks(rotation=45, ha='right')\n",
    "plt.ylabel(\"Frequency\")\n",
    "plt.title(\"Most Frequent Words in the Offensive Sentences\")\n",
    "plt.show()"
   ]
  },
  {
   "cell_type": "code",
   "execution_count": 12,
   "metadata": {
    "colab": {
     "base_uri": "https://localhost:8080/",
     "height": 595
    },
    "id": "9Yy4LvDmuCUq",
    "outputId": "7f5219b0-1909-4c35-8ebc-49391618ec3a"
   },
   "outputs": [
    {
     "data": {
      "image/png": "[encoded data removed]",
      "text/plain": [
       "<Figure size 1500x600 with 1 Axes>"
      ]
     },
     "metadata": {},
     "output_type": "display_data"
    }
   ],
   "source": [
    "# Extract the words and frequencies from the most_frequent_words list\n",
    "words, frequencies = zip(*most_frequent_words_not_in_offensive)\n",
    "\n",
    "# Create a bar chart of the most frequent words\n",
    "plt.figure(figsize=(15,6))\n",
    "plt.bar(words, frequencies)\n",
    "plt.xlabel(\"Words\")\n",
    "plt.xticks(rotation=45, ha='right')\n",
    "plt.ylabel(\"Frequency\")\n",
    "plt.title(\"Most Frequent Words in the Non-offensive Sentences\")\n",
    "plt.show()"
   ]
  },
  {
   "cell_type": "code",
   "execution_count": 13,
   "metadata": {
    "colab": {
     "base_uri": "https://localhost:8080/"
    },
    "id": "vqfDzAvuee3I",
    "outputId": "117fad8d-513b-46e6-9b2c-e906ce656eba"
   },
   "outputs": [
    {
     "ename": "NameError",
     "evalue": "name 'freq_dist' is not defined",
     "output_type": "error",
     "traceback": [
      "\u001b[1;31m---------------------------------------------------------------------------\u001b[0m",
      "\u001b[1;31mNameError\u001b[0m                                 Traceback (most recent call last)",
      "Cell \u001b[1;32mIn[13], line 1\u001b[0m\n\u001b[1;32m----> 1\u001b[0m \u001b[38;5;28mprint\u001b[39m(\u001b[38;5;28mtype\u001b[39m(\u001b[43mfreq_dist\u001b[49m))\n\u001b[0;32m      2\u001b[0m \u001b[38;5;28mprint\u001b[39m(\u001b[38;5;28mtype\u001b[39m(most_frequent_words))\n\u001b[0;32m      3\u001b[0m \u001b[38;5;28mprint\u001b[39m(most_frequent_words)\n",
      "\u001b[1;31mNameError\u001b[0m: name 'freq_dist' is not defined"
     ]
    }
   ],
   "source": [
    "print(type(freq_dist))\n",
    "print(type(most_frequent_words))\n",
    "print(most_frequent_words)\n",
    "print(len('#'))"
   ]
  },
  {
   "cell_type": "code",
   "execution_count": null,
   "metadata": {},
   "outputs": [],
   "source": []
  },
  {
   "cell_type": "code",
   "execution_count": 7,
   "metadata": {
    "id": "E6ZLjZ1EekMb"
   },
   "outputs": [
    {
     "name": "stdout",
     "output_type": "stream",
     "text": [
      "Unique Word List: \n",
      " ['00' '000' '0000' ... '지민_열아홉살때부터_봤잖아요' '지민은_천사가_남긴_기적' '𝟮𝟮𝟬𝟳𝟭𝟵']\n",
      "Bag of Words Matrix: \n",
      " [[False False False ... False False False]\n",
      " [False False False ... False False False]\n",
      " [False False False ... False False False]\n",
      " ...\n",
      " [False False False ... False False False]\n",
      " [False False False ... False False False]\n",
      " [False False False ... False False False]]\n"
     ]
    }
   ],
   "source": [
    "from sklearn.feature_extraction.text import CountVectorizer\n",
    "# Modelling\n",
    "from sklearn.ensemble import RandomForestClassifier\n",
    "from sklearn.metrics import accuracy_score, confusion_matrix, precision_score, recall_score, ConfusionMatrixDisplay\n",
    "from sklearn.model_selection import RandomizedSearchCV, train_test_split\n",
    "\n",
    "# Tree Visualisation\n",
    "from sklearn.tree import export_graphviz\n",
    "from IPython.display import Image\n",
    "\n",
    "data2 = pd.read_csv('cleaned_dataset.csv')\n",
    "vectorizer = CountVectorizer()\n",
    "\n",
    "X = vectorizer.fit_transform(data2['text'])\n",
    "\n",
    "feature_names = vectorizer.get_feature_names_out()\n",
    "\n",
    "X_array = X.astype(bool).toarray()\n",
    "\n",
    "X_train, X_test, y_train, y_test = train_test_split(X_array, data2['label'].astype(bool), test_size=0.2)\n",
    "\n",
    "\n",
    "\n",
    "\n",
    "\n",
    "print(\"Unique Word List: \\n\", feature_names)\n",
    "print(\"Bag of Words Matrix: \\n\", X_array)\n"
   ]
  },
  {
   "cell_type": "code",
   "execution_count": null,
   "metadata": {},
   "outputs": [],
   "source": [
    "from sklearn.tree import DecisionTreeClassifier\n",
    "classifier_dt = DecisionTreeClassifier(criterion = 'entropy', random_state = 0)\n",
    "classifier_dt.fit(X_train, y_train)\n",
    "\n",
    "#Decision Tree\n",
    "y_pred_dt = classifier_dt.predict(X_test)\n",
    "cm = confusion_matrix(y_test, y_pred_dt)\n",
    "print(cm)\n",
    "\n",
    "dt_score = accuracy_score(y_test, y_pred_dt)\n",
    "print('Decision Tree Accuracy: ', str(dt_score))"
   ]
  },
  {
   "cell_type": "code",
   "execution_count": null,
   "metadata": {},
   "outputs": [],
   "source": []
  },
  {
   "cell_type": "code",
   "execution_count": null,
   "metadata": {},
   "outputs": [],
   "source": []
  },
  {
   "cell_type": "code",
   "execution_count": null,
   "metadata": {},
   "outputs": [],
   "source": []
  },
  {
   "cell_type": "code",
   "execution_count": null,
   "metadata": {},
   "outputs": [],
   "source": []
  }
 ],
 "metadata": {
  "colab": {
   "provenance": []
  },
  "kernelspec": {
   "display_name": "Python 3 (ipykernel)",
   "language": "python",
   "name": "python3"
  },
  "language_info": {
   "codemirror_mode": {
    "name": "ipython",
    "version": 3
   },
   "file_extension": ".py",
   "mimetype": "text/x-python",
   "name": "python",
   "nbconvert_exporter": "python",
   "pygments_lexer": "ipython3",
   "version": "3.9.0b4"
  }
 },
 "nbformat": 4,
 "nbformat_minor": 4
}
