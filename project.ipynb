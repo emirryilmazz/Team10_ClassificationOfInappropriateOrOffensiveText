{
  "nbformat": 4,
  "nbformat_minor": 0,
  "metadata": {
    "colab": {
      "provenance": []
    },
    "kernelspec": {
      "name": "python3",
      "display_name": "Python 3"
    },
    "language_info": {
      "name": "python"
    }
  },
  "cells": [
    {
      "cell_type": "markdown",
      "source": [
        "# Classification of Inappropriate/Offensive Text"
      ],
      "metadata": {
        "id": "MP2wU5OtihT6"
      }
    },
    {
      "cell_type": "markdown",
      "source": [
        "## Import the essentials"
      ],
      "metadata": {
        "id": "zmFLzbUMivyU"
      }
    },
    {
      "cell_type": "code",
      "execution_count": 1,
      "metadata": {
        "id": "mHJ4wBofhr8S"
      },
      "outputs": [],
      "source": [
        "import pandas as pd\n",
        "import numpy as np\n",
        "\n",
        "# Load the dataset\n",
        "data = pd.read_csv('dataset.csv')"
      ]
    },
    {
      "cell_type": "markdown",
      "source": [
        "## Data Preprocessing Part"
      ],
      "metadata": {
        "id": "ciDALDINikWj"
      }
    },
    {
      "cell_type": "code",
      "source": [
        "# Function to remove unnecessary user tags from the entries\n",
        "def clean_text(text):\n",
        "    text = text.replace(\"@USER \", \"\")\n",
        "    text = text.replace(\"@USER\", \"\")\n",
        "    return text\n",
        "\n",
        "# Apply the cleaning function to the 'text' column\n",
        "data['text'] = data['text'].apply(clean_text)\n",
        "\n",
        "# Remove emojis from the samples\n",
        "data.astype(str).apply(lambda x: x.str.encode('ascii', 'ignore').str.decode('ascii'))\n",
        "\n",
        "# Save the cleaned dataframe\n",
        "data.to_csv('cleaned_dataset.csv', index=False)"
      ],
      "metadata": {
        "id": "wnFCVPjhh7S2"
      },
      "execution_count": 2,
      "outputs": []
    },
    {
      "cell_type": "code",
      "source": [],
      "metadata": {
        "id": "hiAi04WTisMO"
      },
      "execution_count": null,
      "outputs": []
    }
  ]
}